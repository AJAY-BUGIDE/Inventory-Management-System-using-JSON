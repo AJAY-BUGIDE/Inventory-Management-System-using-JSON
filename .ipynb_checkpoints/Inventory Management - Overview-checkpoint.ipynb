{
 "cells": [
  {
   "cell_type": "code",
   "execution_count": null,
   "id": "23168fbc-0e4b-45b6-b030-671a8955affd",
   "metadata": {},
   "outputs": [
    {
     "name": "stdout",
     "output_type": "stream",
     "text": [
      "Enter product ID:  4\n",
      "Enter product Quantity  :  20\n",
      "Enter product Full Name :  Vinay\n",
      "Enter product Phone     :  456212365\n",
      "Enter product Mail      :  asdfg@gmail.com\n"
     ]
    },
    {
     "name": "stdout",
     "output_type": "stream",
     "text": [
      "------------------------------\n",
      "Product Name   :   Candy\n",
      "Price          :   1\n",
      "Quantity       :   40\n",
      "------------------------------\n",
      "Billing Amount :   20\n",
      "------------------------------\n",
      "Inventory updated\n"
     ]
    }
   ],
   "source": [
    "import time\n",
    "file = open(\"inventory.txt\", 'r')\n",
    "products = file.read().split('\\n')\n",
    "file.close()\n",
    "\n",
    "ui_prod_id = input(\"Enter product ID: \")\n",
    "\n",
    "\n",
    "upd_item_lst = []\n",
    "prod_found = False\n",
    "\n",
    "for product in products:\n",
    "    prod_details = product.split(',')\n",
    "    if prod_details[0] == ui_prod_id:\n",
    "        ui_prod_qn = input(\"Enter product Quantity  : \")\n",
    "        ui_name     = input(\"Enter product Full Name : \")\n",
    "        ui_phone    = input(\"Enter product Phone     : \")\n",
    "        ui_mail     = input(\"Enter product Mail      : \")\n",
    "        prod_found = True\n",
    "        if int(ui_prod_qn) <= int(prod_details[3]):\n",
    "            print('-'*30)\n",
    "            print( \"Product Name   : \", prod_details[1])\n",
    "            print( \"Price          : \", prod_details[2])\n",
    "            print( \"Quantity       :  \", ui_prod_qn)\n",
    "            print('-'*30)\n",
    "            print(\"Billing Amount :  \", int(ui_prod_qn) * int(prod_details[2]))\n",
    "            print('-'*30)\n",
    "            prod_details[3] = str(int(prod_details[3])-int(ui_prod_qn))\n",
    "            file = open(\"Sales.txt\", 'a')\n",
    "            purchase_details = ui_name +\",\"+ ui_phone +\",\"+ ui_mail +\",\"+ prod_details[1] +\",\"+ ui_prod_id +\",\"+ ui_prod_qn +\",\"+ str(int(ui_prod_qn) * int(prod_details[2]))+\",\"+ time.ctime() + \"\\n\"\n",
    "            file.write(purchase_details)\n",
    "            file.close()\n",
    "        else:\n",
    "            print(\"Sorry we don't have that much quantity\\nWe have this amount of quantity - \",prod_details[3], \"\\n Would you like to purchase\")\n",
    "\n",
    "            ch = input(\"Press Y/N\")\n",
    "\n",
    "            if(ch == 'Y' or ch == 'y'):\n",
    "                print('-'*30)\n",
    "                print( \"Product Name   : \", prod_details[1])\n",
    "                print( \"Price          : \", prod_details[2])\n",
    "                print( \"Quantity       : \", prod_details[3])\n",
    "                print('-'*30)\n",
    "                print(\"Billing Amount :  \", int(prod_details[3]) * int(prod_details[2]))\n",
    "                print('-'*30)\n",
    "                prod_details[3] = str(int(prod_details[3])-int(ui_prod_qn))\n",
    "\n",
    "                prod_details[3] = '0'\n",
    "\n",
    "            else:\n",
    "                print(\"Thanks\")\n",
    "            \n",
    "        \n",
    "    upd_item_lst.append(prod_details)\n",
    "\n",
    "if not prod_found:\n",
    "    print(\"Try entering different one!\")\n",
    "\n",
    "lst = []\n",
    "for i in upd_item_lst:\n",
    "    prod = i[0] + ',' + i[1] + ',' + i[2] + ',' + i[3] + '\\n'\n",
    "    lst.append(prod)\n",
    "    # file.write(prod)\n",
    "lst[-1] = lst[-1][:-1]\n",
    "\n",
    "file = open(\"inventory.txt\", \"w\")\n",
    "for i in lst:\n",
    "    file.write(i)\n",
    "file.close()\n",
    "print(\"Inventory updated\")"
   ]
  },
  {
   "cell_type": "code",
   "execution_count": 120,
   "id": "b791369f-4db7-4763-97ca-08a3f9b17850",
   "metadata": {},
   "outputs": [
    {
     "data": {
      "text/plain": [
       "['1, Chocolate, 5,0\\n',\n",
       " '2, Milky Bar, 10,25\\n',\n",
       " '3, Cake, 300, 5\\n',\n",
       " '4, Candy, 1,140']"
      ]
     },
     "execution_count": 120,
     "metadata": {},
     "output_type": "execute_result"
    }
   ],
   "source": [
    "lst"
   ]
  },
  {
   "cell_type": "code",
   "execution_count": 121,
   "id": "50bcb975-70ca-431b-9f4b-d5b8cf468306",
   "metadata": {},
   "outputs": [
    {
     "data": {
      "text/plain": [
       "'Thu Aug  7 21:46:01 2025'"
      ]
     },
     "execution_count": 121,
     "metadata": {},
     "output_type": "execute_result"
    }
   ],
   "source": [
    "time.ctime()"
   ]
  },
  {
   "cell_type": "code",
   "execution_count": null,
   "id": "2f5a7dc0-17c2-4f19-8197-7b9557ca4fa8",
   "metadata": {},
   "outputs": [],
   "source": []
  }
 ],
 "metadata": {
  "kernelspec": {
   "display_name": "base",
   "language": "python",
   "name": "python3"
  },
  "language_info": {
   "codemirror_mode": {
    "name": "ipython",
    "version": 3
   },
   "file_extension": ".py",
   "mimetype": "text/x-python",
   "name": "python",
   "nbconvert_exporter": "python",
   "pygments_lexer": "ipython3",
   "version": "3.13.5"
  },
  "widgets": {
   "application/vnd.jupyter.widget-state+json": {
    "state": {},
    "version_major": 2,
    "version_minor": 0
   }
  }
 },
 "nbformat": 4,
 "nbformat_minor": 5
}

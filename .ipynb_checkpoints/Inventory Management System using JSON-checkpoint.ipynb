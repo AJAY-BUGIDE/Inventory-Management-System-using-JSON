{
 "cells": [
  {
   "cell_type": "code",
   "execution_count": 32,
   "id": "4dea586b-91d1-4ef0-ae62-6317511e54cc",
   "metadata": {},
   "outputs": [
    {
     "name": "stdout",
     "output_type": "stream",
     "text": [
      "--------------------MENU---------------------\n",
      "1001 : 5 Star | 10 | 196\n",
      "1002 : Bar-One | 20 | 97\n",
      "1003 : Candy | 2 | 950\n",
      "1004 : Chocolate Cake | 550 | 0\n",
      "1005 : Blueberry Cake | 650 | 5\n",
      "---------------------------------------------\n",
      "\n"
     ]
    },
    {
     "name": "stdin",
     "output_type": "stream",
     "text": [
      "Enter your name    :  Naveen\n",
      "Enter Mail ID      :  naveen@gmail.com\n",
      "Enter Phone No     :  9100728361\\\n",
      "Enter product ID   :  1005\n",
      "Enter Quantity     :  1\n"
     ]
    },
    {
     "name": "stdout",
     "output_type": "stream",
     "text": [
      "---------------------------------------------\n",
      "Name      :  Blueberry Cake\n",
      "Price (Rs):  650\n",
      "Quantity  :  1\n",
      "---------------------------------------------\n",
      "Billing   :  Rs. 650\n",
      "---------------------------------------------\n",
      "Inventory Updated\n"
     ]
    }
   ],
   "source": [
    "import json\n",
    "import time\n",
    "\n",
    "fd = open(\"Record.json\", \"r\")\n",
    "json_data = fd.read()\n",
    "fd.close()\n",
    "\n",
    "sale_details = ''\n",
    "\n",
    "record = json.loads(json_data)\n",
    "print(\"--------------------MENU---------------------\")\n",
    "for key in record.keys():\n",
    "    print(key,\":\", record[key]['Name'],\"|\", record[key]['Price'],\"|\", record[key]['Qn'])\n",
    "print(\"---------------------------------------------\")\n",
    "print('')\n",
    "# record['1004']['Qn'] = 5\n",
    "# Taking input from user\n",
    "ui_name = str(input(\"Enter your name    : \"))\n",
    "ui_mail = str(input(\"Enter Mail ID      : \"))\n",
    "ui_ph   = str(input(\"Enter Phone No     : \"))\n",
    "ui_pr   = str(input(\"Enter product ID   : \"))\n",
    "ui_qn   = int(input(\"Enter Quantity     : \"))\n",
    "if ui_qn <= record[ui_pr]['Qn']:\n",
    "    print(\"---------------------------------------------\")\n",
    "    record[ui_pr]['Qn'] = record[ui_pr]['Qn'] - ui_qn\n",
    "    # Printing Bill\n",
    "    print(\"Name      : \", record[ui_pr][\"Name\"])\n",
    "    print(\"Price (Rs): \", record[ui_pr][\"Price\"])\n",
    "    print(\"Quantity  : \", ui_qn)\n",
    "    print(\"---------------------------------------------\")\n",
    "    print(\"Billing   : \", \"Rs.\", ui_qn * record[ui_pr][\"Price\"])\n",
    "    print(\"---------------------------------------------\")\n",
    "    sale_details = ui_name+\",\"+ui_mail+\",\"+ui_ph+\",\"+ui_pr+\",\"+record[ui_pr][\"Name\"]+\",\"+str(ui_qn)+\",\"+str(record[ui_pr][\"Price\"])+\",\"+str(ui_qn * record[ui_pr][\"Price\"])+\",\"+time.ctime()+\"\\n\"\n",
    "\n",
    "\n",
    "else:\n",
    "    print(\"We are having this amount of Quantity - \",record[ui_pr]['Qn'], \"\\nLeft this amount of quantity if you need you can press Y/y\")\n",
    "    ch = input(\"Press Y/N: \")\n",
    "    if(ch == 'Y' or ch == 'y'):\n",
    "        print(\"---------------------------------------------\")\n",
    "        # Printing Bill\n",
    "        print(\"Name      : \", record[ui_pr][\"Name\"])\n",
    "        print(\"Price (Rs): \", record[ui_pr][\"Price\"])\n",
    "        print(\"Quantity  : \", record[ui_pr][\"Qn\"])\n",
    "        print(\"---------------------------------------------\")\n",
    "        print(\"Billing   : \", \"Rs.\", record[ui_pr][\"Qn\"] * record[ui_pr][\"Price\"])\n",
    "        print(\"---------------------------------------------\")\n",
    "        # record[ui_pr]['Qn'] = record[ui_pr]['Qn'] - ui_qn\n",
    "        sale_details = ui_name+\",\"+ui_mail+\",\"+ui_ph+\",\"+ui_pr+\",\"+record[ui_pr][\"Name\"]+\",\"+str(record[ui_pr]['Qn'])+\",\"+str(record[ui_pr][\"Price\"])+\",\"+str(record[ui_pr]['Qn'] * record[ui_pr][\"Price\"])+\",\"+time.ctime()+\"\\n\"\n",
    "        record[ui_pr]['Qn'] = 0\n",
    "    else:\n",
    "        print(\"Visit again\")\n",
    "\n",
    "\n",
    "json_data = json.dumps(record)\n",
    "\n",
    "fd = open(\"Record.json\", 'w')\n",
    "fd.write(json_data)\n",
    "fd.close()\n",
    "\n",
    "fd = open(\"Sales.txt\", \"a\")\n",
    "fd.write(sale_details)\n",
    "fd.close()\n",
    "\n",
    "print(\"Inventory Updated\")"
   ]
  },
  {
   "cell_type": "code",
   "execution_count": 28,
   "id": "96c9761e-dc34-4f44-8f5e-faeca55768d3",
   "metadata": {},
   "outputs": [
    {
     "data": {
      "text/plain": [
       "{'1001': {'Name': '5 Star', 'Price': 10, 'Qn': 198},\n",
       " '1002': {'Name': 'Bar-One', 'Price': 20, 'Qn': 97},\n",
       " '1003': {'Name': 'Candy', 'Price': 2, 'Qn': 950},\n",
       " '1004': {'Name': 'Chocolate Cake', 'Price': 550, 'Qn': 0},\n",
       " '1005': {'Name': 'Blueberry Cake', 'Price': 650, 'Qn': 5}}"
      ]
     },
     "execution_count": 28,
     "metadata": {},
     "output_type": "execute_result"
    }
   ],
   "source": [
    "record"
   ]
  },
  {
   "cell_type": "code",
   "execution_count": 31,
   "id": "b47215be-b53a-42d8-80d2-fda22ec456d4",
   "metadata": {},
   "outputs": [
    {
     "data": {
      "text/plain": [
       "'asdfghj,qwertyu@gmail.com,23456789,1001,5 Star,2,10,20,Sat Aug  9 19:04:35 2025\\n'"
      ]
     },
     "execution_count": 31,
     "metadata": {},
     "output_type": "execute_result"
    }
   ],
   "source": [
    "sale"
   ]
  },
  {
   "cell_type": "code",
   "execution_count": null,
   "id": "d6e51215-f7ee-4b75-a816-524145dd4880",
   "metadata": {},
   "outputs": [],
   "source": []
  }
 ],
 "metadata": {
  "kernelspec": {
   "display_name": "Python 3 (ipykernel)",
   "language": "python",
   "name": "python3"
  },
  "language_info": {
   "codemirror_mode": {
    "name": "ipython",
    "version": 3
   },
   "file_extension": ".py",
   "mimetype": "text/x-python",
   "name": "python",
   "nbconvert_exporter": "python",
   "pygments_lexer": "ipython3",
   "version": "3.13.5"
  },
  "widgets": {
   "application/vnd.jupyter.widget-state+json": {
    "state": {},
    "version_major": 2,
    "version_minor": 0
   }
  }
 },
 "nbformat": 4,
 "nbformat_minor": 5
}
